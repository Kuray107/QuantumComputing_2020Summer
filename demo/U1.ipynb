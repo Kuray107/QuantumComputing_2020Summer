{
 "cells": [
  {
   "cell_type": "code",
   "execution_count": 9,
   "metadata": {},
   "outputs": [],
   "source": [
    "# import Qiskit\n",
    "from qiskit import IBMQ, QuantumCircuit, Aer, execute\n",
    "from qiskit.providers.ibmq import least_busy\n",
    "from qiskit.visualization import plot_histogram\n",
    "from qiskit.tools.jupyter import *\n",
    "\n",
    "# import api token\n",
    "apitoken = 'c19e2bcf0e6eb22d33dafe16d433fea46c9f1c2fd61904a781aef17f7c548be2c9136c973f24a1633cc12b5e9343e1fb066168999ba0d0f8e3144147165fe9a8'\n",
    "try :\n",
    "    IBMQ.enable_account(token=apitoken)\n",
    "except:\n",
    "    pass\n",
    "provider = IBMQ.get_provider(project='default')"
   ]
  },
  {
   "cell_type": "markdown",
   "metadata": {},
   "source": [
    "# U1 Gate"
   ]
  },
  {
   "cell_type": "markdown",
   "metadata": {},
   "source": [
    "From the [documentation](https://qiskit.org/documentation/stubs/qiskit.circuit.library.U1Gate.html?highlight=u1%20gate#qiskit.circuit.library.U1Gate) of Qiskit, is said that the **U1** gate can be implemented with zero error rate and duration by framechanges. \n",
    "A circuit consists of a U1 gate and a classical measuring channel is illustrated as below.\n",
    "The matrix representation of U1 gate reads\n",
    "$$\n",
    "U_1(\\theta)\n",
    "=\n",
    "\\begin{pmatrix}\n",
    " 1 & 0 \\\\\n",
    " 0 & e^{i\\theta}\n",
    "\\end{pmatrix}\n",
    "$$\n",
    "with a parameter $\\theta$. Some special cases are:\n",
    "1. $U_1(\\pi) = Z$\n",
    "2. $U_1(\\pi/2) = S$\n",
    "3. $U_1(\\pi/4) = T$"
   ]
  },
  {
   "cell_type": "code",
   "execution_count": 25,
   "metadata": {},
   "outputs": [
    {
     "data": {
      "image/png": "[encoded data removed]",
      "text/plain": [
       "<Figure size 233.576x144.48 with 1 Axes>"
      ]
     },
     "execution_count": 25,
     "metadata": {},
     "output_type": "execute_result"
    }
   ],
   "source": [
    "# create quantum circuit\n",
    "import numpy as np\n",
    "theta = np.pi / 3\n",
    "\n",
    "circ = QuantumCircuit(1,1)\n",
    "circ.u1(theta, [0])\n",
    "circ.measure(0,0)\n",
    "\n",
    "circ.draw('mpl')"
   ]
  },
  {
   "cell_type": "markdown",
   "metadata": {},
   "source": [
    "### Simulator"
   ]
  },
  {
   "cell_type": "code",
   "execution_count": 26,
   "metadata": {},
   "outputs": [
    {
     "data": {
      "image/png": "[encoded data removed]",
      "text/plain": [
       "<Figure size 504x360 with 1 Axes>"
      ]
     },
     "execution_count": 26,
     "metadata": {},
     "output_type": "execute_result"
    }
   ],
   "source": [
    "simulator = Aer.get_backend('qasm_simulator')\n",
    "\n",
    "shots = 1024\n",
    "\n",
    "job = execute(circ, backend=simulator, shots=shots)\n",
    "counts = job.result().get_counts()\n",
    "\n",
    "plot_histogram(counts)"
   ]
  },
  {
   "cell_type": "markdown",
   "metadata": {},
   "source": [
    "### Real device"
   ]
  },
  {
   "cell_type": "code",
   "execution_count": 27,
   "metadata": {},
   "outputs": [
    {
     "name": "stdout",
     "output_type": "stream",
     "text": [
      "backend:  ibmq_vigo\n"
     ]
    },
    {
     "data": {
      "image/png": "[encoded data removed]",
      "text/plain": [
       "<Figure size 504x360 with 1 Axes>"
      ]
     },
     "execution_count": 27,
     "metadata": {},
     "output_type": "execute_result"
    }
   ],
   "source": [
    "backend = least_busy(provider.backends(filters=lambda x: x.configuration().n_qubits >= 1 and \n",
    "                                       not x.configuration().simulator and x.status().operational==True))\n",
    "print('backend: ', backend)\n",
    "\n",
    "job = execute(circ, backend=backend, shots=shots)\n",
    "counts = job.result().get_counts()\n",
    "plot_histogram(counts)"
   ]
  },
  {
   "cell_type": "markdown",
   "metadata": {},
   "source": [
    "***Question*: Where does the small contribution come from?**"
   ]
  },
  {
   "cell_type": "code",
   "execution_count": null,
   "metadata": {},
   "outputs": [],
   "source": []
  }
 ],
 "metadata": {
  "kernelspec": {
   "display_name": "Python 3",
   "language": "python",
   "name": "python3"
  },
  "language_info": {
   "codemirror_mode": {
    "name": "ipython",
    "version": 3
   },
   "file_extension": ".py",
   "mimetype": "text/x-python",
   "name": "python",
   "nbconvert_exporter": "python",
   "pygments_lexer": "ipython3",
   "version": "3.7.7"
  }
 },
 "nbformat": 4,
 "nbformat_minor": 4
}
