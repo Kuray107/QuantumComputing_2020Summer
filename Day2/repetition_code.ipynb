{
 "cells": [
  {
   "cell_type": "markdown",
   "metadata": {},
   "source": [
    "## Prerequisites"
   ]
  },
  {
   "cell_type": "code",
   "execution_count": 1,
   "metadata": {},
   "outputs": [],
   "source": [
    "# import Qiskit\n",
    "from qiskit import IBMQ, QuantumCircuit, Aer, execute\n",
    "from qiskit.providers.ibmq import least_busy\n",
    "from qiskit.tools.jupyter import *\n",
    "\n",
    "# import api token\n",
    "apitoken = 'paste your api token here'\n",
    "try :\n",
    "    IBMQ.enable_account(token=apitoken)\n",
    "except:\n",
    "    pass\n",
    "provider = IBMQ.get_provider(project='default') "
   ]
  },
  {
   "cell_type": "markdown",
   "metadata": {},
   "source": [
    "# Repetition Code"
   ]
  },
  {
   "cell_type": "markdown",
   "metadata": {},
   "source": [
    "Real quantum computers don't work exactly the way they should (as we expect), because\n",
    "1. each gate is slightly wrong\n",
    "2. qubits get poked by small external forces (charge noise, thermal fluctuation, etc.)\n",
    "3. measurements sometimes lie.\n",
    "However, quantum algorithms assume that all qubits are perfect and thus we need error corrections.\n",
    "\n",
    "Repetition code is an ansatz for error correction. \n",
    "\n",
    "Before getting started, we first introduce some nouns:\n",
    "- logical qubits: the (imperfect, or noisy) qubits \n",
    "- physical qubits: the perfect qubits required by algorithms\n",
    "\n",
    "The repetition code is defined by two parameters, $d$: number of repetition `num_repetition` and $T$: number of measurement round `num_measurement_round`.\n",
    "- $d$ determines how many qubits we need in the code. The actual information are stored in these $d$ qubits (the so-called *code qubits*). That is, if you would like to encode a information `1`, you repeat $d$ times.\n",
    "- $T$ is the syndrome measurement round that required to extract the information. \n",
    "For the repetition code, these are based on the fact that all code qubits should be in the same state (all $\\left|0\\right>$ or all $\\left|1\\right>$). \n",
    "Any departure from this is therefore a signature of error. Specifically, we imagine our $d$ code qubits sitting along a line. We will then perform a measurement on each pair of neighboring code qubits. This will tell us whether they are the same or different, without extracting any information on what their values are.\n",
    "- *link qubits*: qubits that required for storing the syndrome measurements, with the number of $d-1$.\n",
    "By pefforming two CNOTs between the pair of code qubits and a corresponding link qubit, the required information (and only the required information) is placed on the link qubit and can then be measured."
   ]
  },
  {
   "cell_type": "markdown",
   "metadata": {},
   "source": [
    "Before applying repetition cede, we need to introduce the noise model, which allows us to get closer to the reality and feel the power of error correction. "
   ]
  },
  {
   "cell_type": "code",
   "execution_count": 2,
   "metadata": {},
   "outputs": [
    {
     "name": "stdout",
     "output_type": "stream",
     "text": [
      "NoiseModel:\n",
      "  Basis gates: ['cx', 'id', 'u1', 'u2', 'u3']\n",
      "  Instructions with noise: ['cx', 'u1', 'id', 'u3', 'measure', 'u2']\n",
      "  Qubits with noise: [1, 2]\n",
      "  All-qubits errors: ['u1', 'u2', 'u3', 'id', 'measure']\n",
      "  Specific qubit errors: [('cx', [1, 2])]\n"
     ]
    }
   ],
   "source": [
    "from qiskit.providers.aer.noise import NoiseModel\n",
    "from qiskit.providers.aer.noise import thermal_relaxation_error, depolarizing_error, pauli_error\n",
    "\n",
    "noise_model = NoiseModel()\n",
    "\n",
    "t1 = 12\n",
    "t2 = 11\n",
    "time = 20\n",
    "thermal_error = thermal_relaxation_error(t1, t2, time)\n",
    "noise_model.add_all_qubit_quantum_error(thermal_error, ['u1', 'u2', 'u3', 'id'])\n",
    "\n",
    "p_cx = 0.07\n",
    "error_cx = depolarizing_error(p_cx, 1)\n",
    "error_cx = error_cx.tensor(error_cx)\n",
    "noise_model.add_quantum_error(error_cx, ['cx'], [1,2])\n",
    "\n",
    "p_flip = 0.12\n",
    "error_meas_flip = pauli_error([('X', p_flip), ('I', 1 - p_flip)])\n",
    "noise_model.add_all_qubit_quantum_error(error_meas_flip, ['measure'])\n",
    "\n",
    "print(noise_model)"
   ]
  },
  {
   "cell_type": "code",
   "execution_count": 3,
   "metadata": {},
   "outputs": [
    {
     "data": {
      "image/png": "[encoded data removed]",
      "text/plain": [
       "<Figure size 299.28x146.2 with 1 Axes>"
      ]
     },
     "execution_count": 3,
     "metadata": {},
     "output_type": "execute_result"
    }
   ],
   "source": [
    "n = 2\n",
    "bell_circ = QuantumCircuit(n,n)\n",
    "bell_circ.h(0)\n",
    "bell_circ.cx(0,1)\n",
    "bell_circ.measure(range(n), range(n))\n",
    "\n",
    "bell_circ.draw('mpl', scale=0.5)"
   ]
  },
  {
   "cell_type": "markdown",
   "metadata": {},
   "source": [
    "Next, do the experiments."
   ]
  },
  {
   "cell_type": "code",
   "execution_count": 4,
   "metadata": {},
   "outputs": [
    {
     "name": "stdout",
     "output_type": "stream",
     "text": [
      "simulator :  {'00': 488, '11': 536}\n",
      "noisy simulator :  {'01': 111, '00': 399, '10': 101, '11': 413}\n",
      "ibmq_vigo :  {'01': 22, '00': 480, '10': 20, '11': 502}\n"
     ]
    },
    {
     "data": {
      "image/png": "[encoded data removed]",
      "text/plain": [
       "<Figure size 504x360 with 1 Axes>"
      ]
     },
     "execution_count": 4,
     "metadata": {},
     "output_type": "execute_result"
    }
   ],
   "source": [
    "simulator = Aer.get_backend('qasm_simulator')\n",
    "backend = least_busy(provider.backends(filters=lambda x: x.configuration().n_qubits >= 5 and \n",
    "                                       not x.configuration().simulator and x.status().operational==True))\n",
    "shots = 1024\n",
    "# simulator\n",
    "job_ideal = execute(bell_circ, backend=simulator, shots=shots)\n",
    "counts_ideal = job_ideal.result().get_counts(bell_circ)\n",
    "print('simulator', ': ', counts_ideal)\n",
    "# noise model\n",
    "job_noisy = execute(bell_circ, backend=simulator, shots=shots, noise_model=noise_model)\n",
    "counts_noisy = job_noisy.result().get_counts(bell_circ)\n",
    "print('noisy simulator', ': ', counts_noisy)\n",
    "# real device\n",
    "job_qc = execute(bell_circ, backend=backend, shots=shots)\n",
    "counts_qc = job_qc.result().get_counts(bell_circ)\n",
    "print(backend, ': ', counts_qc)\n",
    "\n",
    "from qiskit.visualization import plot_histogram\n",
    "plot_histogram([counts_ideal, counts_qc, counts_noisy], legend=['simulator', 'real device', 'noisy simulator'])"
   ]
  },
  {
   "cell_type": "code",
   "execution_count": 5,
   "metadata": {},
   "outputs": [
    {
     "name": "stdout",
     "output_type": "stream",
     "text": [
      "----------- logical 0 ----------\n",
      "                    ┌───┐          ┌───┐          ┌─┐               ┌───┐     »\n",
      "      link_qubit_0: ┤ X ├──────────┤ X ├──────────┤M├─|0>───────────┤ X ├─────»\n",
      "                    └─┬─┘┌───┐     └─┬─┘┌───┐     └╥┘ ┌─┐           └─┬─┘┌───┐»\n",
      "      link_qubit_1: ──┼──┤ X ├───────┼──┤ X ├──────╫──┤M├──|0>────────┼──┤ X ├»\n",
      "                      │  └─┬─┘┌───┐  │  └─┬─┘┌───┐ ║  └╥┘  ┌─┐        │  └─┬─┘»\n",
      "      link_qubit_2: ──┼────┼──┤ X ├──┼────┼──┤ X ├─╫───╫───┤M├──|0>───┼────┼──»\n",
      "                      │    │  └─┬─┘  │    │  └─┬─┘ ║   ║   └╥┘        │    │  »\n",
      "      code_qubit_0: ──■────┼────┼────┼────┼────┼───╫───╫────╫─────────■────┼──»\n",
      "                           │    │    │    │    │   ║   ║    ║              │  »\n",
      "      code_qubit_1: ───────■────┼────■────┼────┼───╫───╫────╫──────────────■──»\n",
      "                                │         │    │   ║   ║    ║                 »\n",
      "      code_qubit_2: ────────────■─────────■────┼───╫───╫────╫─────────────────»\n",
      "                                               │   ║   ║    ║                 »\n",
      "      code_qubit_3: ───────────────────────────■───╫───╫────╫─────────────────»\n",
      "                                                   ║   ║    ║                 »\n",
      "round_0_link_bit_0: ═══════════════════════════════╩═══╬════╬═════════════════»\n",
      "                                                       ║    ║                 »\n",
      "round_0_link_bit_1: ═══════════════════════════════════╩════╬═════════════════»\n",
      "                                                            ║                 »\n",
      "round_0_link_bit_2: ════════════════════════════════════════╩═════════════════»\n",
      "                                                                              »\n",
      "round_1_link_bit_0: ══════════════════════════════════════════════════════════»\n",
      "                                                                              »\n",
      "round_1_link_bit_1: ══════════════════════════════════════════════════════════»\n",
      "                                                                              »\n",
      "round_1_link_bit_2: ══════════════════════════════════════════════════════════»\n",
      "                                                                              »\n",
      "        code_bit_0: ══════════════════════════════════════════════════════════»\n",
      "                                                                              »\n",
      "        code_bit_1: ══════════════════════════════════════════════════════════»\n",
      "                                                                              »\n",
      "        code_bit_2: ══════════════════════════════════════════════════════════»\n",
      "                                                                              »\n",
      "        code_bit_3: ══════════════════════════════════════════════════════════»\n",
      "                                                                              »\n",
      "«                         ┌───┐             ┌─┐               \n",
      "«      link_qubit_0: ─────┤ X ├─────────────┤M├───────────────\n",
      "«                         └─┬─┘┌───┐        └╥┘┌─┐            \n",
      "«      link_qubit_1: ───────┼──┤ X ├─────────╫─┤M├────────────\n",
      "«                    ┌───┐  │  └─┬─┘┌───┐    ║ └╥┘┌─┐         \n",
      "«      link_qubit_2: ┤ X ├──┼────┼──┤ X ├────╫──╫─┤M├─────────\n",
      "«                    └─┬─┘  │    │  └─┬─┘┌─┐ ║  ║ └╥┘         \n",
      "«      code_qubit_0: ──┼────┼────┼────┼──┤M├─╫──╫──╫──────────\n",
      "«                      │    │    │    │  └╥┘ ║  ║  ║ ┌─┐      \n",
      "«      code_qubit_1: ──┼────■────┼────┼───╫──╫──╫──╫─┤M├──────\n",
      "«                      │         │    │   ║  ║  ║  ║ └╥┘┌─┐   \n",
      "«      code_qubit_2: ──■─────────■────┼───╫──╫──╫──╫──╫─┤M├───\n",
      "«                                     │   ║  ║  ║  ║  ║ └╥┘┌─┐\n",
      "«      code_qubit_3: ─────────────────■───╫──╫──╫──╫──╫──╫─┤M├\n",
      "«                                         ║  ║  ║  ║  ║  ║ └╥┘\n",
      "«round_0_link_bit_0: ═════════════════════╬══╬══╬══╬══╬══╬══╬═\n",
      "«                                         ║  ║  ║  ║  ║  ║  ║ \n",
      "«round_0_link_bit_1: ═════════════════════╬══╬══╬══╬══╬══╬══╬═\n",
      "«                                         ║  ║  ║  ║  ║  ║  ║ \n",
      "«round_0_link_bit_2: ═════════════════════╬══╬══╬══╬══╬══╬══╬═\n",
      "«                                         ║  ║  ║  ║  ║  ║  ║ \n",
      "«round_1_link_bit_0: ═════════════════════╬══╩══╬══╬══╬══╬══╬═\n",
      "«                                         ║     ║  ║  ║  ║  ║ \n",
      "«round_1_link_bit_1: ═════════════════════╬═════╩══╬══╬══╬══╬═\n",
      "«                                         ║        ║  ║  ║  ║ \n",
      "«round_1_link_bit_2: ═════════════════════╬════════╩══╬══╬══╬═\n",
      "«                                         ║           ║  ║  ║ \n",
      "«        code_bit_0: ═════════════════════╩═══════════╬══╬══╬═\n",
      "«                                                     ║  ║  ║ \n",
      "«        code_bit_1: ═════════════════════════════════╩══╬══╬═\n",
      "«                                                        ║  ║ \n",
      "«        code_bit_2: ════════════════════════════════════╩══╬═\n",
      "«                                                           ║ \n",
      "«        code_bit_3: ═══════════════════════════════════════╩═\n",
      "«                                                             \n",
      "----------- logical 1 ----------\n",
      "                         ┌───┐          ┌───┐          ┌─┐               ┌───┐»\n",
      "      link_qubit_0: ─────┤ X ├──────────┤ X ├──────────┤M├─|0>───────────┤ X ├»\n",
      "                         └─┬─┘┌───┐     └─┬─┘┌───┐     └╥┘ ┌─┐           └─┬─┘»\n",
      "      link_qubit_1: ───────┼──┤ X ├───────┼──┤ X ├──────╫──┤M├──|0>────────┼──»\n",
      "                           │  └─┬─┘┌───┐  │  └─┬─┘┌───┐ ║  └╥┘  ┌─┐        │  »\n",
      "      link_qubit_2: ───────┼────┼──┤ X ├──┼────┼──┤ X ├─╫───╫───┤M├──|0>───┼──»\n",
      "                    ┌───┐  │    │  └─┬─┘  │    │  └─┬─┘ ║   ║   └╥┘        │  »\n",
      "      code_qubit_0: ┤ X ├──■────┼────┼────┼────┼────┼───╫───╫────╫─────────■──»\n",
      "                    ├───┤       │    │    │    │    │   ║   ║    ║            »\n",
      "      code_qubit_1: ┤ X ├───────■────┼────■────┼────┼───╫───╫────╫────────────»\n",
      "                    ├───┤            │         │    │   ║   ║    ║            »\n",
      "      code_qubit_2: ┤ X ├────────────■─────────■────┼───╫───╫────╫────────────»\n",
      "                    ├───┤                           │   ║   ║    ║            »\n",
      "      code_qubit_3: ┤ X ├───────────────────────────■───╫───╫────╫────────────»\n",
      "                    └───┘                               ║   ║    ║            »\n",
      "round_0_link_bit_0: ════════════════════════════════════╩═══╬════╬════════════»\n",
      "                                                            ║    ║            »\n",
      "round_0_link_bit_1: ════════════════════════════════════════╩════╬════════════»\n",
      "                                                                 ║            »\n",
      "round_0_link_bit_2: ═════════════════════════════════════════════╩════════════»\n",
      "                                                                              »\n",
      "round_1_link_bit_0: ══════════════════════════════════════════════════════════»\n",
      "                                                                              »\n",
      "round_1_link_bit_1: ══════════════════════════════════════════════════════════»\n",
      "                                                                              »\n",
      "round_1_link_bit_2: ══════════════════════════════════════════════════════════»\n",
      "                                                                              »\n",
      "        code_bit_0: ══════════════════════════════════════════════════════════»\n",
      "                                                                              »\n",
      "        code_bit_1: ══════════════════════════════════════════════════════════»\n",
      "                                                                              »\n",
      "        code_bit_2: ══════════════════════════════════════════════════════════»\n",
      "                                                                              »\n",
      "        code_bit_3: ══════════════════════════════════════════════════════════»\n",
      "                                                                              »\n",
      "«                              ┌───┐             ┌─┐               \n",
      "«      link_qubit_0: ──────────┤ X ├─────────────┤M├───────────────\n",
      "«                    ┌───┐     └─┬─┘┌───┐        └╥┘┌─┐            \n",
      "«      link_qubit_1: ┤ X ├───────┼──┤ X ├─────────╫─┤M├────────────\n",
      "«                    └─┬─┘┌───┐  │  └─┬─┘┌───┐    ║ └╥┘┌─┐         \n",
      "«      link_qubit_2: ──┼──┤ X ├──┼────┼──┤ X ├────╫──╫─┤M├─────────\n",
      "«                      │  └─┬─┘  │    │  └─┬─┘┌─┐ ║  ║ └╥┘         \n",
      "«      code_qubit_0: ──┼────┼────┼────┼────┼──┤M├─╫──╫──╫──────────\n",
      "«                      │    │    │    │    │  └╥┘ ║  ║  ║ ┌─┐      \n",
      "«      code_qubit_1: ──■────┼────■────┼────┼───╫──╫──╫──╫─┤M├──────\n",
      "«                           │         │    │   ║  ║  ║  ║ └╥┘┌─┐   \n",
      "«      code_qubit_2: ───────■─────────■────┼───╫──╫──╫──╫──╫─┤M├───\n",
      "«                                          │   ║  ║  ║  ║  ║ └╥┘┌─┐\n",
      "«      code_qubit_3: ──────────────────────■───╫──╫──╫──╫──╫──╫─┤M├\n",
      "«                                              ║  ║  ║  ║  ║  ║ └╥┘\n",
      "«round_0_link_bit_0: ══════════════════════════╬══╬══╬══╬══╬══╬══╬═\n",
      "«                                              ║  ║  ║  ║  ║  ║  ║ \n",
      "«round_0_link_bit_1: ══════════════════════════╬══╬══╬══╬══╬══╬══╬═\n",
      "«                                              ║  ║  ║  ║  ║  ║  ║ \n",
      "«round_0_link_bit_2: ══════════════════════════╬══╬══╬══╬══╬══╬══╬═\n",
      "«                                              ║  ║  ║  ║  ║  ║  ║ \n",
      "«round_1_link_bit_0: ══════════════════════════╬══╩══╬══╬══╬══╬══╬═\n",
      "«                                              ║     ║  ║  ║  ║  ║ \n",
      "«round_1_link_bit_1: ══════════════════════════╬═════╩══╬══╬══╬══╬═\n",
      "«                                              ║        ║  ║  ║  ║ \n",
      "«round_1_link_bit_2: ══════════════════════════╬════════╩══╬══╬══╬═\n",
      "«                                              ║           ║  ║  ║ \n",
      "«        code_bit_0: ══════════════════════════╩═══════════╬══╬══╬═\n",
      "«                                                          ║  ║  ║ \n",
      "«        code_bit_1: ══════════════════════════════════════╩══╬══╬═\n",
      "«                                                             ║  ║ \n",
      "«        code_bit_2: ═════════════════════════════════════════╩══╬═\n",
      "«                                                                ║ \n",
      "«        code_bit_3: ════════════════════════════════════════════╩═\n",
      "«                                                                  \n"
     ]
    }
   ],
   "source": [
    "from qiskit.ignis.verification.topological_codes import RepetitionCode\n",
    "from qiskit.ignis.verification.topological_codes import GraphDecoder\n",
    "from qiskit.ignis.verification.topological_codes import lookuptable_decoding, postselection_decoding\n",
    "\n",
    "num_repetition = 4\n",
    "num_measurement_round = 2\n",
    "rep_code = RepetitionCode(num_repetition, num_measurement_round)\n",
    "\n",
    "\n",
    "for log in ['0', '1']:\n",
    "    print(f'----------- logical {log} ----------')\n",
    "    print(rep_code.circuit[log])"
   ]
  },
  {
   "cell_type": "markdown",
   "metadata": {},
   "source": [
    "We want to run both circuits at the once (in order to correct for both `0` and `1` cases). Thus we need to convert them into a list.\n",
    "Also, we extract the results and convert them into a form easily understood."
   ]
  },
  {
   "cell_type": "code",
   "execution_count": 6,
   "metadata": {},
   "outputs": [
    {
     "name": "stdout",
     "output_type": "stream",
     "text": [
      "{'0': {'0 0  000 000 000': 1024}, '1': {'1 1  000 000 000': 1024}}\n",
      "\n",
      "Most common results for a stored 0\n",
      "0 0  000 000 000 ocurred for 1024 samples.\n",
      "\n",
      "Most common results for a stored 1\n",
      "1 1  000 000 000 ocurred for 1024 samples.\n"
     ]
    }
   ],
   "source": [
    "rep_circ_raw = rep_code.get_circuit_list()\n",
    "#circ = []\n",
    "#for bell_circ in rep_circ_raw:\n",
    "#    circ.append(bell_circ)\n",
    "\n",
    "\n",
    "shots = 1024\n",
    "job_rep_ideal = execute( rep_circ_raw, backend=simulator, shots=shots)\n",
    "job_rep_noisy = execute( rep_circ_raw, backend=simulator, noise_model=noise_model, shots=shots)\n",
    "\n",
    "raw_results_ideal = {}\n",
    "raw_results_noisy = {}\n",
    "for log in ['0','1']:\n",
    "    raw_results_ideal[log] = job_rep_ideal.result().get_counts(log)\n",
    "    raw_results_noisy[log] = job_rep_noisy.result().get_counts(log)\n",
    "results_rep_ideal = rep_code.process_results(raw_results_ideal)\n",
    "results_rep_noisy = rep_code.process_results(raw_results_noisy) # not printed here\n",
    "print(results_rep_ideal)\n",
    "for log in results_rep_ideal:\n",
    "    print('\\nMost common results for a stored',log)\n",
    "    for output in results_rep_ideal[log]:\n",
    "        if results_rep_ideal[log][output]>100:\n",
    "            print(output,'ocurred for', results_rep_ideal[log][output],'samples.')"
   ]
  },
  {
   "cell_type": "markdown",
   "metadata": {},
   "source": [
    "### How to read the results?"
   ]
  },
  {
   "cell_type": "markdown",
   "metadata": {},
   "source": [
    "*Note*: $d$ is the number of repetitioin and $T$ is the number of measurement round.\n",
    "\n",
    "- The 0 0 to the far left for the logical 0 result, and the 1 1 to the far left of the logical 1, are the logical readout. Any code qubit could be used for this readout, since they should (without errors) all be equal. So we could have just one result here, for one arbitrarily chosen code qubit. Or we could have $d$, one for each qubit. Instead we have two, from the two qubits at either end of the line. This is because it works best with the decoder (which we'll use later). In the absence of errors, these two values will always be equal.\n",
    "\n",
    "- The following 0000 is the $d-1$ results of the syndrome measurements for the first round.A 0 implies that the corresponding pair of qubits where the same, and 1 implies different. There are $d-1$ results because the line of $d$ code qubits has $d-1$ possible neighboring pairs. In the absence of errors, they will all be 0.\n",
    "\n",
    "- The 0000 that follows that is the syndrome change between the first and second rounds. It is therefore the bitwise OR of the syndrome measurement results from the second round with those from the first. In the absence of errors, they will all be 0.\n",
    "\n",
    "- Subsequent blocks follow the same formula, though the last requires some comment. This is not measured using the standard method (with a link qubit). Instead it is calculated from the final readout measurement of all code qubits. Again it is presented as a syndrome change, and will be all 0 in the absence of errors. This is the $T+1$-th block of syndrome measurements since, as it is not done in the same way as the others, it is not counted among the $T$ syndrome measurement rounds.\n",
    "\n",
    "\n",
    "**Example 1**: 0 0  0110 0000 0000 would represent a `num_repetition=5`, `num_measurement_round=2` repetition code with encoded 0. The syndrome shows that (most likely) the middle code qubit was flipped by an error before the first measurement round. This causes it to disagree with both neighboring code qubits for the rest of the circuit. This is shown by the syndrome in the first round, but the blocks for subsequent rounds do not report it as it no longer represents a change. Other sets of errors could also have caused this syndrome, but they would need to be more complex and so presumably less likely.\n",
    "\n",
    "**Example 2**: 0 0  0010 0010 0000 would represent a `num_repetition=5`, `num_measurement_round=2` repetition code with encoded 0. Here one of the syndrome measurements reported a difference between two code qubits in the first round, leading to a 1. The next round did not see the same effect, and so resulted in a 0. However, since this disagreed with the previous result for the same syndrome measurement, and since we track syndrome changes, this change results in another 1. Subsequent rounds also do not detect anything, but this no longer represents a change and hence results in a 0 in the same position. Most likely the measurement result leading to the first 1 was an error.\n",
    "\n",
    "**Example 3**: 0 1  0000 0001 0000 would represent a `num_repetition=5`, `num_measurement_round=2` repetition code with encoded 1. A code qubit on the end of the line is flipped before the second round of syndrome measurements. This is detected by only a single syndrome measurement, because it is on the end of the line. For the same reason, it also disturbs one of the logical readouts.\n",
    "\n",
    "Note that in all these examples, a single error causes exactly two characters in the string to change from the value it would have with no errors. This is, in fact, the reason why the logical output consists of both endpoints. It is a property that will be used by the decoder."
   ]
  },
  {
   "cell_type": "markdown",
   "metadata": {},
   "source": [
    "## Probability of a logical error"
   ]
  },
  {
   "cell_type": "code",
   "execution_count": 7,
   "metadata": {},
   "outputs": [
    {
     "name": "stdout",
     "output_type": "stream",
     "text": [
      "ideal:  {'0': 0.0, '1': 0.0}\n",
      "noise model:  {'0': 0.05078125, '1': 0.0458984375}\n"
     ]
    }
   ],
   "source": [
    "decoder = GraphDecoder(rep_code)\n",
    "\n",
    "decoder_ideal = decoder.get_logical_prob(results_rep_ideal)\n",
    "decoder_noisy = decoder.get_logical_prob(results_rep_noisy)\n",
    "print('ideal: ', decoder_ideal)\n",
    "print('noise model: ', decoder_noisy)"
   ]
  },
  {
   "cell_type": "markdown",
   "metadata": {},
   "source": [
    "# Reference"
   ]
  },
  {
   "cell_type": "markdown",
   "metadata": {},
   "source": [
    "Further reading, please visit [Qiskit textbook](https://qiskit.org/textbook/ch-quantum-hardware/error-correction-repetition-code.html)."
   ]
  },
  {
   "cell_type": "code",
   "execution_count": 8,
   "metadata": {},
   "outputs": [
    {
     "data": {
      "text/html": [
       "<h3>Version Information</h3><table><tr><th>Qiskit Software</th><th>Version</th></tr><tr><td>Qiskit</td><td>0.19.0</td></tr><tr><td>Terra</td><td>0.14.0</td></tr><tr><td>Aer</td><td>0.5.1</td></tr><tr><td>Ignis</td><td>0.3.0</td></tr><tr><td>Aqua</td><td>0.7.0</td></tr><tr><td>IBM Q Provider</td><td>0.7.0</td></tr><tr><th>System information</th></tr><tr><td>Python</td><td>3.7.7 (default, May  6 2020, 04:59:01) \n",
       "[Clang 4.0.1 (tags/RELEASE_401/final)]</td></tr><tr><td>OS</td><td>Darwin</td></tr><tr><td>CPUs</td><td>6</td></tr><tr><td>Memory (Gb)</td><td>32.0</td></tr><tr><td colspan='2'>Wed Aug 05 13:01:45 2020 CST</td></tr></table>"
      ],
      "text/plain": [
       "<IPython.core.display.HTML object>"
      ]
     },
     "metadata": {},
     "output_type": "display_data"
    },
    {
     "data": {
      "text/html": [
       "<div style='width: 100%; background-color:#d5d9e0;padding-left: 10px; padding-bottom: 10px; padding-right: 10px; padding-top: 5px'><h3>This code is a part of Qiskit</h3><p>&copy; Copyright IBM 2017, 2020.</p><p>This code is licensed under the Apache License, Version 2.0. You may<br>obtain a copy of this license in the LICENSE.txt file in the root directory<br> of this source tree or at http://www.apache.org/licenses/LICENSE-2.0.<p>Any modifications or derivative works of this code must retain this<br>copyright notice, and modified files need to carry a notice indicating<br>that they have been altered from the originals.</p></div>"
      ],
      "text/plain": [
       "<IPython.core.display.HTML object>"
      ]
     },
     "metadata": {},
     "output_type": "display_data"
    }
   ],
   "source": [
    "import qiskit.tools.jupyter\n",
    "%qiskit_version_table\n",
    "%qiskit_copyright"
   ]
  },
  {
   "cell_type": "markdown",
   "metadata": {},
   "source": [
    "# Exercise"
   ]
  },
  {
   "cell_type": "markdown",
   "metadata": {},
   "source": [
    "Do the repetition code on your favorite real device (or you may want to build up a noisy simulator, that will be okay).\n",
    "In addition to run a repetition code, please append a simple quantum circuit, such as an entangled state generator or a others, before the code. Compare the results with different parameters set (number of repetition and the number of measurement round)."
   ]
  },
  {
   "cell_type": "code",
   "execution_count": null,
   "metadata": {},
   "outputs": [],
   "source": []
  }
 ],
 "metadata": {
  "kernelspec": {
   "display_name": "Python 3",
   "language": "python",
   "name": "python3"
  },
  "language_info": {
   "codemirror_mode": {
    "name": "ipython",
    "version": 3
   },
   "file_extension": ".py",
   "mimetype": "text/x-python",
   "name": "python",
   "nbconvert_exporter": "python",
   "pygments_lexer": "ipython3",
   "version": "3.7.7"
  }
 },
 "nbformat": 4,
 "nbformat_minor": 4
}
